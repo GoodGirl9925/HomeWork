{
 "cells": [
  {
   "cell_type": "markdown",
   "id": "913aafe9-4d00-4ade-9977-5fea3a3309c4",
   "metadata": {},
   "source": [
    "第一题："
   ]
  },
  {
   "cell_type": "code",
   "execution_count": 3,
   "id": "25618dab-94a5-4ad1-9614-61470e51b63f",
   "metadata": {},
   "outputs": [
    {
     "name": "stdout",
     "output_type": "stream",
     "text": [
      "★★★★★★★★★\n",
      "数据科学与工程导论\n",
      "★★★★★★★★★\n"
     ]
    }
   ],
   "source": [
    "print(chr(0x2605)*9);\n",
    "print(\"数据科学与工程导论\");\n",
    "print(chr(0x2605)*9);"
   ]
  },
  {
   "cell_type": "markdown",
   "id": "f6c17e9e-e1c4-43e0-99c1-c035fdced736",
   "metadata": {},
   "source": [
    "第二题："
   ]
  },
  {
   "cell_type": "code",
   "execution_count": 4,
   "id": "2d75c7e9-6732-4eba-9390-daf8b281f30c",
   "metadata": {},
   "outputs": [
    {
     "name": "stdin",
     "output_type": "stream",
     "text": [
      "x: 5\n",
      "y: 3\n",
      "z: 8\n"
     ]
    },
    {
     "name": "stdout",
     "output_type": "stream",
     "text": [
      "3 5 8\n"
     ]
    }
   ],
   "source": [
    "x = input(\"x:\" )\n",
    "y = input(\"y:\" )\n",
    "z = input(\"z:\" )\n",
    "if x <= y :\n",
    "    if y <= z:\n",
    "        print(x,y,z)\n",
    "    elif x <= z:\n",
    "        print(x,z,y)\n",
    "    else:\n",
    "        print(z,x,y)\n",
    "else:\n",
    "    if x <= z:\n",
    "        print(y,x,z)\n",
    "    elif z <= y:\n",
    "        print(z,y,x)\n",
    "    else:\n",
    "        print(y,z,x)\n",
    "\n"
   ]
  },
  {
   "cell_type": "markdown",
   "id": "ca4493af-f10e-4a74-b8b4-0733456ac658",
   "metadata": {},
   "source": [
    "第三题："
   ]
  },
  {
   "cell_type": "code",
   "execution_count": 5,
   "id": "fa7888bd-2a30-4f29-9cc2-417458dea9f9",
   "metadata": {},
   "outputs": [
    {
     "name": "stdin",
     "output_type": "stream",
     "text": [
      "w: 3\n",
      "x: 5\n",
      "y: 7\n",
      "z: 2\n"
     ]
    },
    {
     "name": "stdout",
     "output_type": "stream",
     "text": [
      "['7', '5', '3', '2']\n"
     ]
    }
   ],
   "source": [
    "w = input(\"w:\" )\n",
    "x = input(\"x:\" )\n",
    "y = input(\"y:\" )\n",
    "z = input(\"z:\" )\n",
    "l = [w,x,y,z]\n",
    "l.sort(reverse=True)\n",
    "print(l)"
   ]
  },
  {
   "cell_type": "markdown",
   "id": "22c74a5f-b344-4ed9-8747-01b68d6e75b0",
   "metadata": {},
   "source": [
    "第四题："
   ]
  },
  {
   "cell_type": "code",
   "execution_count": 8,
   "id": "3c4d9de8-d0f6-4ea4-a1cf-59c1df2673a0",
   "metadata": {},
   "outputs": [
    {
     "name": "stdout",
     "output_type": "stream",
     "text": [
      "1\n",
      "3\n",
      "5\n",
      "7\n",
      "9\n",
      "11\n",
      "13\n",
      "15\n",
      "17\n",
      "19\n",
      "21\n",
      "23\n",
      "25\n",
      "27\n",
      "29\n",
      "31\n",
      "33\n",
      "35\n",
      "37\n",
      "39\n",
      "41\n",
      "43\n",
      "45\n",
      "47\n",
      "49\n",
      "51\n",
      "53\n",
      "55\n",
      "57\n",
      "59\n",
      "61\n",
      "63\n",
      "65\n",
      "67\n",
      "69\n",
      "71\n",
      "73\n",
      "75\n",
      "77\n",
      "79\n",
      "81\n",
      "83\n",
      "85\n",
      "87\n",
      "89\n",
      "91\n",
      "93\n",
      "95\n",
      "97\n",
      "99\n"
     ]
    }
   ],
   "source": [
    "for i in range (1,101):\n",
    "    if i % 2 == 0:\n",
    "        continue\n",
    "    print(i)"
   ]
  },
  {
   "cell_type": "markdown",
   "id": "c9f3039e-1020-445d-9f1d-181460189915",
   "metadata": {},
   "source": [
    "第五题："
   ]
  },
  {
   "cell_type": "code",
   "execution_count": 9,
   "id": "eb4d635c-781b-47f6-a25a-2942a8d21883",
   "metadata": {},
   "outputs": [
    {
     "name": "stdout",
     "output_type": "stream",
     "text": [
      "5050\n"
     ]
    }
   ],
   "source": [
    "sum = 0\n",
    "for i in range(1,101):\n",
    "    sum = sum + i\n",
    "print(sum)"
   ]
  },
  {
   "cell_type": "markdown",
   "id": "fafd8125-d8aa-4bcb-853b-86f10ca7deb8",
   "metadata": {},
   "source": [
    "第六题："
   ]
  },
  {
   "cell_type": "code",
   "execution_count": 1,
   "id": "844dc699-7580-4ce9-bb4d-3bfb8ed242c5",
   "metadata": {},
   "outputs": [
    {
     "name": "stdout",
     "output_type": "stream",
     "text": [
      "[9, 7, 6, 4, 1]\n"
     ]
    }
   ],
   "source": [
    "arr = [1,4,6,7,9]\n",
    "rearr = []\n",
    "for i in range(len(arr)-1,-1,-1):\n",
    "    rearr.append(arr[i])\n",
    "print(rearr)"
   ]
  },
  {
   "cell_type": "markdown",
   "id": "6ebbbf9b-5e8a-40af-9f95-a049efee094e",
   "metadata": {},
   "source": [
    "第七题："
   ]
  },
  {
   "cell_type": "code",
   "execution_count": 3,
   "id": "4d352e19-d58a-4ea7-b778-2e7cae5725b2",
   "metadata": {},
   "outputs": [
    {
     "name": "stdin",
     "output_type": "stream",
     "text": [
      "请输入一个字符串： adfghjk\n"
     ]
    },
    {
     "name": "stdout",
     "output_type": "stream",
     "text": [
      "不含相同字母\n"
     ]
    }
   ],
   "source": [
    "a = input(\"请输入一个字符串：\")\n",
    "t = -1;\n",
    "test = 0;\n",
    "for i in range(len(a)):\n",
    "    if t == a[i]:\n",
    "        print(\"含相同字母\")\n",
    "        test = 1\n",
    "        break\n",
    "    else:\n",
    "        t = a[i]\n",
    "if test == 0:\n",
    "    print(\"不含相同字母\")"
   ]
  },
  {
   "cell_type": "markdown",
   "id": "be8c01d9-0e50-4e30-bc44-94721675d8c8",
   "metadata": {},
   "source": [
    "第八题："
   ]
  },
  {
   "cell_type": "code",
   "execution_count": 6,
   "id": "c096d520-fd38-4547-ae3d-cc1cb81f54b9",
   "metadata": {},
   "outputs": [
    {
     "name": "stdout",
     "output_type": "stream",
     "text": [
      "DataScienceandEngineering\n"
     ]
    }
   ],
   "source": [
    "S = \"DataScience and Engineering\"\n",
    "S1 = S.replace(\" \",\"\")\n",
    "print(S1)"
   ]
  },
  {
   "cell_type": "markdown",
   "id": "a2ee9628-161d-4cca-9013-d2e41f3e23a1",
   "metadata": {},
   "source": [
    "第九题："
   ]
  },
  {
   "cell_type": "code",
   "execution_count": 14,
   "id": "00194fef-1191-4403-ac3f-6b29daa2ad89",
   "metadata": {},
   "outputs": [
    {
     "name": "stdout",
     "output_type": "stream",
     "text": [
      "3.0\n"
     ]
    }
   ],
   "source": [
    "def cube_root(a, tolerance=1e-10, max_iterations=1000):  \n",
    "    x = a / 3.0 if a != 0 else 1.0  \n",
    "    for iteration in range(max_iterations):    \n",
    "        next_x = (2 * x_cubed + a) / (3 * x ** 2)  \n",
    "        if abs(next_x - x) < tolerance:   \n",
    "        x = next_x  \n",
    "    return x  \n",
    "print(cube_root(27))  \n"
   ]
  },
  {
   "cell_type": "markdown",
   "id": "f8fd140d-df9a-4bc9-a36a-97fea31c7337",
   "metadata": {},
   "source": [
    "第十题："
   ]
  },
  {
   "cell_type": "code",
   "execution_count": 13,
   "id": "900988cb-9c59-4700-9f34-76398d4b037d",
   "metadata": {},
   "outputs": [
    {
     "name": "stdin",
     "output_type": "stream",
     "text": [
      "n=  6\n"
     ]
    },
    {
     "name": "stdout",
     "output_type": "stream",
     "text": [
      "720\n"
     ]
    }
   ],
   "source": [
    "n = int(input(\"n= \"))\n",
    "s = 1\n",
    "if n == 0:\n",
    "    print(s)\n",
    "elif n < 0:\n",
    "    print(\"阶乘不存在\")\n",
    "else:\n",
    "    for i in range(1,(n+1)):\n",
    "        s = s * i\n",
    "    print(s)\n",
    "    \n",
    "\n"
   ]
  },
  {
   "cell_type": "code",
   "execution_count": null,
   "id": "fcb17c4a-898a-427f-a139-cf98a147e570",
   "metadata": {},
   "outputs": [],
   "source": []
  }
 ],
 "metadata": {
  "kernelspec": {
   "display_name": "Python 3 (ipykernel)",
   "language": "python",
   "name": "python3"
  },
  "language_info": {
   "codemirror_mode": {
    "name": "ipython",
    "version": 3
   },
   "file_extension": ".py",
   "mimetype": "text/x-python",
   "name": "python",
   "nbconvert_exporter": "python",
   "pygments_lexer": "ipython3",
   "version": "3.11.7"
  }
 },
 "nbformat": 4,
 "nbformat_minor": 5
}
