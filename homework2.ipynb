{
 "cells": [
  {
   "cell_type": "code",
   "execution_count": null,
   "id": "79781d93-03f1-44e6-981e-09b024cf5a82",
   "metadata": {},
   "outputs": [],
   "source": [
    "第一题："
   ]
  },
  {
   "cell_type": "code",
   "execution_count": 3,
   "id": "9a6c3b1b-f54a-4ea7-8b3f-0663c4e2f9d7",
   "metadata": {},
   "outputs": [
    {
     "name": "stdout",
     "output_type": "stream",
     "text": [
      "48 和 18 的最大公约数是 6\n"
     ]
    }
   ],
   "source": [
    "def gcd(a, b):  \n",
    "    while b != 0:  \n",
    "        a, b = b, a % b  \n",
    "    return a  \n",
    "  \n",
    "# 示例  \n",
    "a = 48  \n",
    "b = 18  \n",
    "print(f\"{a} 和 {b} 的最大公约数是 {gcd(a, b)}\")"
   ]
  },
  {
   "cell_type": "code",
   "execution_count": null,
   "id": "e52fce30-616e-4086-bf75-d0c9e603c9da",
   "metadata": {},
   "outputs": [],
   "source": [
    "第二题："
   ]
  },
  {
   "cell_type": "code",
   "execution_count": 5,
   "id": "d95cd232-a3af-4192-9ecc-1a9203acd683",
   "metadata": {},
   "outputs": [
    {
     "name": "stdin",
     "output_type": "stream",
     "text": [
      "请输入分数： 59\n"
     ]
    },
    {
     "name": "stdout",
     "output_type": "stream",
     "text": [
      "考试不及格\n"
     ]
    }
   ],
   "source": [
    "mark = int(input(\"请输入分数：\"))\n",
    "while mark != 0:\n",
    "    if mark < 60:\n",
    "        print(\"考试不及格\")\n",
    "        break\n",
    "    elif mark < 75:\n",
    "        print(\"考试合格\")\n",
    "        break\n",
    "    elif mark < 90:\n",
    "        print(\"考试成绩良好\")\n",
    "        break\n",
    "    else:\n",
    "        print(\"考试成绩优秀\")"
   ]
  },
  {
   "cell_type": "code",
   "execution_count": null,
   "id": "abb0cdbe-25bf-4340-9cb5-5afd6923c7ac",
   "metadata": {},
   "outputs": [],
   "source": [
    "第三题："
   ]
  },
  {
   "cell_type": "code",
   "execution_count": 8,
   "id": "1d326592-4fc9-47a7-bdbf-4bd5f31af9c7",
   "metadata": {},
   "outputs": [
    {
     "name": "stdin",
     "output_type": "stream",
     "text": [
      "请输入需要转化成二进制的十进制整数： 2\n"
     ]
    },
    {
     "name": "stdout",
     "output_type": "stream",
     "text": [
      "Decimal: 2 -> Binary: 10\n"
     ]
    }
   ],
   "source": [
    "num = int(input(\"请输入需要转化成二进制的十进制整数：\"))\n",
    "i = 0\n",
    "def decimal_to_binary(n):  \n",
    "    if n < 0:  \n",
    "        raise ValueError(\"Only non-negative integers are supported\")  \n",
    "      \n",
    "    if n == 0:  \n",
    "        return \"0\"  \n",
    "      \n",
    "    binary_digits = []  \n",
    "    while n > 0:  \n",
    "        remainder = n % 2  \n",
    "        binary_digits.append(str(remainder))  \n",
    "        n = n // 2  \n",
    "      \n",
    "    binary_digits.reverse()  \n",
    "    return ''.join(binary_digits)  \n",
    "  \n",
    "binary_number = decimal_to_binary(num)  \n",
    "print(f\"Decimal: {num} -> Binary: {binary_number}\")"
   ]
  },
  {
   "cell_type": "code",
   "execution_count": null,
   "id": "36a42627-e624-4837-ac1f-ab6c0a412c51",
   "metadata": {},
   "outputs": [],
   "source": [
    "第四题："
   ]
  },
  {
   "cell_type": "code",
   "execution_count": 11,
   "id": "eb40b8a2-8206-4c3e-b207-eeb942f49c6b",
   "metadata": {},
   "outputs": [
    {
     "name": "stdout",
     "output_type": "stream",
     "text": [
      "19.929449537515325\n"
     ]
    }
   ],
   "source": [
    "import random\n",
    "\n",
    "beg = 10\n",
    "end = 20\n",
    "num = random.uniform(beg,end)\n",
    "print(num)"
   ]
  },
  {
   "cell_type": "code",
   "execution_count": null,
   "id": "a244e8d1-052e-42ba-9fee-dd74b7dca0a5",
   "metadata": {},
   "outputs": [],
   "source": [
    "第五题："
   ]
  },
  {
   "cell_type": "code",
   "execution_count": 12,
   "id": "20ffda85-0fb9-4278-9ce5-c3530085287d",
   "metadata": {},
   "outputs": [
    {
     "name": "stdin",
     "output_type": "stream",
     "text": [
      "请输入一个整数： 12321\n"
     ]
    },
    {
     "name": "stdout",
     "output_type": "stream",
     "text": [
      "输入整数是回文数\n"
     ]
    }
   ],
   "source": [
    "num = input(\"请输入一个整数：\")\n",
    "strr = str(num)\n",
    "str_x = strr[::-1] \n",
    "if strr == str_x:\n",
    "    print (\"输入整数是回文数\")\n",
    "else:\n",
    "    print(\"输入整数不是回文数\")"
   ]
  },
  {
   "cell_type": "code",
   "execution_count": null,
   "id": "8621b7c9-cfa6-447a-b263-d0f30caff65f",
   "metadata": {},
   "outputs": [],
   "source": [
    "第六题："
   ]
  },
  {
   "cell_type": "code",
   "execution_count": 20,
   "id": "481f429c-6d12-46fb-a241-74bc596a99aa",
   "metadata": {},
   "outputs": [
    {
     "name": "stdin",
     "output_type": "stream",
     "text": [
      "输入一个整数n:  5\n"
     ]
    },
    {
     "name": "stdout",
     "output_type": "stream",
     "text": [
      "[0, 1, 1, 2, 3, 5]\n"
     ]
    }
   ],
   "source": [
    "n = int(input(\"输入一个整数n: \"))  \n",
    "def fei(n):  \n",
    "    if n < 0:  \n",
    "        print(\"所输整数不符合要求\")  \n",
    "        return None  \n",
    "    if n == 0:\n",
    "        return 0\n",
    "    if n == 1:  \n",
    "        return 1  \n",
    "    else:  \n",
    "        return fei(n-1) + fei(n-2)   \n",
    "fib_list = []  \n",
    "for i in range(n + 1):  \n",
    "    result = fei(i)  \n",
    "    if result is not None: \n",
    "        fib_list.append(result)  \n",
    " \n",
    "print(fib_list)"
   ]
  },
  {
   "cell_type": "code",
   "execution_count": null,
   "id": "bcefe54d-53bf-4781-894a-309dad248890",
   "metadata": {},
   "outputs": [],
   "source": [
    "第七题："
   ]
  },
  {
   "cell_type": "code",
   "execution_count": 29,
   "id": "dd33b680-bbbc-4a2f-8d36-50673ff0d46a",
   "metadata": {},
   "outputs": [
    {
     "name": "stdin",
     "output_type": "stream",
     "text": [
      "请输入一个数组 1,3,5,6,3\n"
     ]
    },
    {
     "name": "stdout",
     "output_type": "stream",
     "text": [
      "5\n"
     ]
    }
   ],
   "source": [
    "def seclarg (arr):\n",
    "    if len(arr) < 2:\n",
    "        return -1\n",
    "    else:\n",
    "        rearr = sorted(arr,reverse=True)\n",
    "        lar = rearr[0]\n",
    "        for i in range (1,len(arr)):\n",
    "            if rearr[i] < lar:\n",
    "                return rearr[i]\n",
    "arr = input(\"请输入一个数组\")\n",
    "arr1 = arr.split(\",\")\n",
    "int_arr = list(map(int,arr1))\n",
    "print(seclarg(int_arr))"
   ]
  },
  {
   "cell_type": "code",
   "execution_count": null,
   "id": "8a6fdc98-346f-4bc6-830d-b4badc892827",
   "metadata": {},
   "outputs": [],
   "source": [
    "第八题："
   ]
  },
  {
   "cell_type": "code",
   "execution_count": 31,
   "id": "c19f2df5-c397-4ad6-b4ec-5a66f4e1fd77",
   "metadata": {},
   "outputs": [
    {
     "name": "stdin",
     "output_type": "stream",
     "text": [
      "请输入您的身份证号： 211111200702024567\n"
     ]
    },
    {
     "name": "stdout",
     "output_type": "stream",
     "text": [
      "输入的身份证号码是有效的。\n"
     ]
    }
   ],
   "source": [
    "import re\n",
    "def validate_id_card(num):\n",
    "    pattern = r'^[1-9]\\d{5}(19|20)\\d{2}(0[1-9]|1[1-2])(0[1-9]|[1-2]\\d|3[0-1])\\d{3}(\\d|X|x)$'\n",
    "    return bool(re.match(pattern,num))\n",
    "num = input(\"请输入您的身份证号：\")\n",
    "if validate_id_card(num):  \n",
    "    print(\"输入的身份证号码是有效的。\")  \n",
    "else:  \n",
    "    print(\"输入的身份证号码是无效的。\")"
   ]
  }
 ],
 "metadata": {
  "kernelspec": {
   "display_name": "Python 3 (ipykernel)",
   "language": "python",
   "name": "python3"
  },
  "language_info": {
   "codemirror_mode": {
    "name": "ipython",
    "version": 3
   },
   "file_extension": ".py",
   "mimetype": "text/x-python",
   "name": "python",
   "nbconvert_exporter": "python",
   "pygments_lexer": "ipython3",
   "version": "3.11.7"
  }
 },
 "nbformat": 4,
 "nbformat_minor": 5
}
