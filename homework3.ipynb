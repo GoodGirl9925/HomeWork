{
 "cells": [
  {
   "cell_type": "code",
   "execution_count": null,
   "id": "75869d71-1321-49b3-be5e-d883ff056d25",
   "metadata": {},
   "outputs": [],
   "source": [
    "第一题："
   ]
  },
  {
   "cell_type": "code",
   "execution_count": 4,
   "id": "92477cdf-26f6-4a37-be1a-d1b08fb56a31",
   "metadata": {},
   "outputs": [
    {
     "name": "stdin",
     "output_type": "stream",
     "text": [
      "请输入一个整数n:  20\n"
     ]
    },
    {
     "name": "stdout",
     "output_type": "stream",
     "text": [
      "20 不是质数\n"
     ]
    }
   ],
   "source": [
    "import math\n",
    "\n",
    "def is_prime(n):\n",
    "    if n < 2:\n",
    "        return False\n",
    "    for i in range(2, int(math.sqrt(n)) + 1):\n",
    "        if n % i == 0:\n",
    "            return False\n",
    "    return True\n",
    "\n",
    "n = int(input('请输入一个整数n: '))\n",
    "\n",
    "if is_prime(n):\n",
    "    print(f\"{n} 是质数\")\n",
    "else:\n",
    "    print(f\"{n} 不是质数\")\n"
   ]
  },
  {
   "cell_type": "code",
   "execution_count": null,
   "id": "b652e551-0f02-418a-a879-a9a428684de1",
   "metadata": {},
   "outputs": [],
   "source": [
    "第二题："
   ]
  },
  {
   "cell_type": "code",
   "execution_count": 5,
   "id": "ecd66fce-3962-49f7-84d0-def25e91360e",
   "metadata": {},
   "outputs": [
    {
     "name": "stdout",
     "output_type": "stream",
     "text": [
      "排序后的数组: [5, 6, 11, 12, 13]\n"
     ]
    }
   ],
   "source": [
    "def insertion_sort(arr):\n",
    "    for i in range(1, len(arr)):\n",
    "        key = arr[i]\n",
    "        j = i - 1\n",
    "        \n",
    "        while j >= 0 and arr[j] > key:\n",
    "            arr[j + 1] = arr[j]\n",
    "            j -= 1\n",
    "        \n",
    "        arr[j + 1] = key\n",
    "\n",
    "data = [12, 11, 13, 5, 6]\n",
    "insertion_sort(data)\n",
    "print(\"排序后的数组:\", data)\n"
   ]
  },
  {
   "cell_type": "code",
   "execution_count": null,
   "id": "6efad480-1cb0-4202-ae8b-5a9191a74990",
   "metadata": {},
   "outputs": [],
   "source": [
    "第三题："
   ]
  },
  {
   "cell_type": "code",
   "execution_count": 6,
   "id": "6b2fe331-c0bb-4326-85e5-ea2da488ea38",
   "metadata": {},
   "outputs": [
    {
     "name": "stdout",
     "output_type": "stream",
     "text": [
      "排序后的数组: [11, 12, 22, 25, 64]\n"
     ]
    }
   ],
   "source": [
    "def selection_sort(arr):\n",
    "    n = len(arr)\n",
    "    for i in range(n):\n",
    "        min_index = i\n",
    "        for j in range(i + 1, n):\n",
    "            if arr[j] < arr[min_index]:\n",
    "                min_index = j\n",
    "        arr[i], arr[min_index] = arr[min_index], arr[i]\n",
    "\n",
    "data = [64, 25, 12, 22, 11]\n",
    "selection_sort(data)\n",
    "print(\"排序后的数组:\", data)\n"
   ]
  },
  {
   "cell_type": "code",
   "execution_count": null,
   "id": "33336e6e-c133-4421-9f62-9d838643ba0c",
   "metadata": {},
   "outputs": [],
   "source": [
    "第四题："
   ]
  },
  {
   "cell_type": "code",
   "execution_count": 7,
   "id": "d45ecff0-12d6-4eff-8673-9b618af7fa49",
   "metadata": {},
   "outputs": [
    {
     "name": "stdout",
     "output_type": "stream",
     "text": [
      "排序后的数组: [11, 12, 22, 25, 64]\n"
     ]
    }
   ],
   "source": [
    "def quick_sort(arr):\n",
    "    if len(arr) <= 1:\n",
    "        return arr\n",
    "    pivot = arr[len(arr) // 2]\n",
    "    left = [x for x in arr if x < pivot]\n",
    "    middle = [x for x in arr if x == pivot]\n",
    "    right = [x for x in arr if x > pivot]\n",
    "    return quick_sort(left) + middle + quick_sort(right)\n",
    "\n",
    "data = [64, 25, 12, 22, 11]\n",
    "sorted_data = quick_sort(data)\n",
    "print(\"排序后的数组:\", sorted_data)\n"
   ]
  },
  {
   "cell_type": "code",
   "execution_count": null,
   "id": "7bdd14fb-8731-49af-93f4-e2aac3efaefa",
   "metadata": {},
   "outputs": [],
   "source": [
    "第五题："
   ]
  },
  {
   "cell_type": "code",
   "execution_count": 27,
   "id": "a70ec67f-c9de-416d-8728-fcfd577c8ce5",
   "metadata": {},
   "outputs": [
    {
     "name": "stdout",
     "output_type": "stream",
     "text": [
      "归并排序时间: 0.084172 秒\n",
      "快速排序时间: 0.049143 秒\n",
      "插入排序时间: 5.749336 秒\n"
     ]
    }
   ],
   "source": [
    "import numpy as np\n",
    "import time\n",
    "import random\n",
    "\n",
    "def insertion_sort(arr):\n",
    "    for i in range(1, len(arr)):\n",
    "        key = arr[i]\n",
    "        j = i - 1\n",
    "        \n",
    "        while j >= 0 and arr[j] > key:\n",
    "            arr[j + 1] = arr[j]\n",
    "            j -= 1\n",
    "        \n",
    "        arr[j + 1] = key\n",
    "def quick_sort(arr):\n",
    "    if len(arr) <= 1:\n",
    "        return arr\n",
    "    pivot = arr[len(arr) // 2]\n",
    "    left = [x for x in arr if x < pivot]\n",
    "    middle = [x for x in arr if x == pivot]\n",
    "    right = [x for x in arr if x > pivot]\n",
    "    return quick_sort(left) + middle + quick_sort(right)\n",
    "def merge_sort(arr):\n",
    "    if len(arr) > 1:\n",
    "        mid = len(arr) // 2\n",
    "        left_half = arr[:mid]\n",
    "        right_half = arr[mid:]\n",
    "\n",
    "        merge_sort(left_half)\n",
    "        merge_sort(right_half)\n",
    "\n",
    "        i = j = k = 0\n",
    "\n",
    "        while i < len(left_half) and j < len(right_half):\n",
    "            if left_half[i] < right_half[j]:\n",
    "                arr[k] = left_half[i]\n",
    "                i += 1\n",
    "            else:\n",
    "                arr[k] = right_half[j]\n",
    "                j += 1\n",
    "            k += 1\n",
    "\n",
    "        while i < len(left_half):\n",
    "            arr[k] = left_half[i]\n",
    "            i += 1\n",
    "            k += 1\n",
    "\n",
    "        while j < len(right_half):\n",
    "            arr[k] = right_half[j]\n",
    "            j += 1\n",
    "            k += 1\n",
    "\n",
    "\n",
    "\n",
    "# 生成随机整数数组\n",
    "r100 = np.random.randint(0, 100, size=100).tolist()       # 生成 100 个 0 到 99 之间的随机整数\n",
    "r1000 = np.random.randint(0, 1000, size=1000).tolist()    # 生成 1000 个 0 到 999 之间的随机整数\n",
    "r10000 = np.random.randint(0, 10000, size=10000).tolist()  # 生成 10000 个 0 到 9999 之间的随机整数\n",
    "# 开始计时\n",
    "start_time = time.time()\n",
    "merge_sort(r100);\n",
    "merge_sort(r1000);\n",
    "merge_sort(r10000);\n",
    "# 结束计时\n",
    "end_time = time.time()\n",
    "# 计算排序时间\n",
    "elapsed_time = end_time - start_time\n",
    "print(f\"归并排序时间: {elapsed_time:.6f} 秒\")\n",
    "\n",
    "\n",
    "# 生成随机整数数组\n",
    "r100 = np.random.randint(0, 100, size=100).tolist()       # 生成 100 个 0 到 99 之间的随机整数\n",
    "r1000 = np.random.randint(0, 1000, size=1000).tolist()    # 生成 1000 个 0 到 999 之间的随机整数\n",
    "r10000 = np.random.randint(0, 10000, size=10000).tolist()  # 生成 10000 个 0 到 9999 之间的随机整数\n",
    "# 开始计时\n",
    "start_time = time.time()\n",
    "quick_sort(r100);\n",
    "quick_sort(r1000);\n",
    "quick_sort(r10000);\n",
    "# 结束计时\n",
    "end_time = time.time()\n",
    "\n",
    "# 计算排序时间\n",
    "elapsed_time = end_time - start_time\n",
    "print(f\"快速排序时间: {elapsed_time:.6f} 秒\")\n",
    "# 生成随机整数数组\n",
    "r100 = np.random.randint(0, 100, size=100).tolist()       # 生成 100 个 0 到 99 之间的随机整数\n",
    "r1000 = np.random.randint(0, 1000, size=1000).tolist()    # 生成 1000 个 0 到 999 之间的随机整数\n",
    "r10000 = np.random.randint(0, 10000, size=10000).tolist()  # 生成 10000 个 0 到 9999 之间的随机整数\n",
    "# 开始计时\n",
    "start_time = time.time()\n",
    "insertion_sort(r100);\n",
    "insertion_sort(r10000);\n",
    "insertion_sort(r1000);\n",
    "# 结束计时\n",
    "end_time = time.time()\n",
    "# 计算排序时间\n",
    "elapsed_time = end_time - start_time\n",
    "print(f\"插入排序时间: {elapsed_time:.6f} 秒\")\n"
   ]
  },
  {
   "cell_type": "code",
   "execution_count": null,
   "id": "191498cb-584c-41e0-b632-68d06ec42ac5",
   "metadata": {},
   "outputs": [],
   "source": [
    "第六题："
   ]
  },
  {
   "cell_type": "code",
   "execution_count": 8,
   "id": "bbd07709-cae5-4d4e-a26f-0c6ba491a3c3",
   "metadata": {},
   "outputs": [
    {
     "name": "stdout",
     "output_type": "stream",
     "text": [
      "当前时间: 2024-10-15 13:37:48\n"
     ]
    }
   ],
   "source": [
    "from datetime import datetime\n",
    "\n",
    "current_time = datetime.now()\n",
    "print(\"当前时间:\", current_time.strftime(\"%Y-%m-%d %H:%M:%S\"))\n"
   ]
  },
  {
   "cell_type": "code",
   "execution_count": null,
   "id": "d969d506-3bde-44e8-9e04-14c0f9a0cd72",
   "metadata": {},
   "outputs": [],
   "source": [
    "第七题："
   ]
  },
  {
   "cell_type": "code",
   "execution_count": 11,
   "id": "63b0dc8e-d687-4b3b-aaed-80b86e0a9c47",
   "metadata": {},
   "outputs": [
    {
     "name": "stdout",
     "output_type": "stream",
     "text": [
      "stuID,chinese,math,english\n",
      "10381,74,87,82\n",
      "10382,92,88,90\n",
      "10383,87,82,81\n",
      "10384,98,97,96\n",
      "10385,62,51,60\n",
      "\n"
     ]
    }
   ],
   "source": [
    "\n",
    "file_path = r'C:\\Users\\57572\\Downloads\\stuGrade.csv'  \n",
    "with open(file_path, 'r', encoding='utf-8') as file:  \n",
    "    content = file.read()\n",
    "print(content)\n"
   ]
  },
  {
   "cell_type": "code",
   "execution_count": null,
   "id": "2469bf6c-dd2d-4c2c-8d90-2aaadbd68c4a",
   "metadata": {},
   "outputs": [],
   "source": [
    "第八题："
   ]
  },
  {
   "cell_type": "code",
   "execution_count": 30,
   "id": "069e7f24-af25-43ae-8f5a-18fb2f4f27fe",
   "metadata": {},
   "outputs": [],
   "source": [
    "import pandas as pd\n",
    "\n",
    "data = pd.read_csv(r'C:\\Users\\57572\\Downloads\\stuGrade.csv')\n",
    "\n",
    "def calculate_all_averages():\n",
    "    averages = []\n",
    "    for index, row in data.iterrows():\n",
    "        stu_id = row['stuID']\n",
    "        average_score = row[['chinese', 'math', 'english']].mean()\n",
    "        averages.append((stu_id, average_score))\n",
    "    \n",
    "    return averages\n",
    "\n",
    "all_averages = calculate_all_averages()\n",
    "\n",
    "with open('my.txt', 'w', encoding='utf-8') as f:\n",
    "    for stu_id, avg in all_averages:\n",
    "        f.write(f\"学号 {stu_id} 的平均成绩为: {avg:.2f}\\n\")"
   ]
  },
  {
   "cell_type": "code",
   "execution_count": null,
   "id": "0ad32dfb-2b08-4fe4-9876-c9e0b9957a2f",
   "metadata": {},
   "outputs": [],
   "source": []
  }
 ],
 "metadata": {
  "kernelspec": {
   "display_name": "Python 3 (ipykernel)",
   "language": "python",
   "name": "python3"
  },
  "language_info": {
   "codemirror_mode": {
    "name": "ipython",
    "version": 3
   },
   "file_extension": ".py",
   "mimetype": "text/x-python",
   "name": "python",
   "nbconvert_exporter": "python",
   "pygments_lexer": "ipython3",
   "version": "3.11.7"
  }
 },
 "nbformat": 4,
 "nbformat_minor": 5
}
